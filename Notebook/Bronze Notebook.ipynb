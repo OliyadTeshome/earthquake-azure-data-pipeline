{
 "cells": [
  {
   "cell_type": "code",
   "execution_count": 0,
   "metadata": {
    "application/vnd.databricks.v1+cell": {
     "cellMetadata": {
      "byteLimit": 2048000,
      "rowLimit": 10000
     },
     "inputWidgets": {},
     "nuid": "81d6f429-71b1-4975-a794-6ce8deb19e83",
     "showTitle": false,
     "tableResultSettingsMap": {},
     "title": ""
    }
   },
   "outputs": [
    {
     "output_type": "execute_result",
     "data": {
      "text/plain": [
       "[]"
      ]
     },
     "execution_count": 2,
     "metadata": {},
     "output_type": "execute_result"
    }
   ],
   "source": [
    "# Mount ADLS Gen2\n",
    "# Required each time the cluster is restarted wich should be only on the first notebook as the run in order\n",
    "\n",
    "tiers = [\"bronze\", \"silver\", \"gold\"]\n",
    "adls_paths = {tier: f\"abfss://{tier}@prj1storage.dfs.core.windows.net/\" for tier in tiers}\n",
    "\n",
    "# Accessing paths\n",
    "bronze_adls = adls_paths[\"bronze\"]\n",
    "silver_adls = adls_paths[\"silver\"]\n",
    "gold_adls = adls_paths[\"gold\"]\n",
    "\n",
    "dbutils.fs.ls(bronze_adls)\n",
    "dbutils.fs.ls(silver_adls)\n",
    "dbutils.fs.ls(gold_adls)"
   ]
  },
  {
   "cell_type": "code",
   "execution_count": 0,
   "metadata": {
    "application/vnd.databricks.v1+cell": {
     "cellMetadata": {
      "byteLimit": 2048000,
      "rowLimit": 10000
     },
     "inputWidgets": {},
     "nuid": "97ab874f-b87d-4d1b-8982-30593c9623d1",
     "showTitle": false,
     "tableResultSettingsMap": {},
     "title": ""
    }
   },
   "outputs": [],
   "source": [
    "import requests\n",
    "import json\n",
    "from datetime import date, timedelta"
   ]
  },
  {
   "cell_type": "code",
   "execution_count": 0,
   "metadata": {
    "application/vnd.databricks.v1+cell": {
     "cellMetadata": {
      "byteLimit": 2048000,
      "rowLimit": 10000
     },
     "inputWidgets": {},
     "nuid": "28bd4647-ddd5-496c-9aeb-d63a34366a9a",
     "showTitle": false,
     "tableResultSettingsMap": {},
     "title": ""
    }
   },
   "outputs": [],
   "source": [
    "# For static pipeline\n",
    "\"\"\" # Remove this before running Data Factory Pipeline\n",
    "start_date = date.today() - timedelta(1)\n",
    "end_date = date.today() \"\"\"\n",
    "\n",
    "## FOR DYNAMIC PIPELINE\n",
    "# Get base parameters\n",
    "dbutils.widgets.text(\"start_date\", \"\")\n",
    "dbutils.widgets.text(\"end_date\", \"\")\n",
    "\n",
    "start_date = dbutils.widgets.get(\"start_date\")\n",
    "end_date = dbutils.widgets.get(\"end_date\")"
   ]
  },
  {
   "cell_type": "code",
   "execution_count": 0,
   "metadata": {
    "application/vnd.databricks.v1+cell": {
     "cellMetadata": {
      "byteLimit": 2048000,
      "rowLimit": 10000
     },
     "inputWidgets": {},
     "nuid": "f68b9795-4636-4eb2-a7e4-34fbaec758ac",
     "showTitle": false,
     "tableResultSettingsMap": {},
     "title": ""
    }
   },
   "outputs": [
    {
     "output_type": "execute_result",
     "data": {
      "text/plain": [
       "(datetime.date(2025, 3, 11), datetime.date(2025, 3, 12))"
      ]
     },
     "execution_count": 7,
     "metadata": {},
     "output_type": "execute_result"
    }
   ],
   "source": [
    "# start_date, end_date"
   ]
  },
  {
   "cell_type": "code",
   "execution_count": 0,
   "metadata": {
    "application/vnd.databricks.v1+cell": {
     "cellMetadata": {
      "byteLimit": 2048000,
      "rowLimit": 10000
     },
     "inputWidgets": {},
     "nuid": "c42bfdca-d27c-4835-9c60-4b048006038f",
     "showTitle": false,
     "tableResultSettingsMap": {},
     "title": ""
    }
   },
   "outputs": [],
   "source": [
    "# Construct the API URL with start and end dates provided by Data Factory, formatted for geojson output.\n",
    "url =f\"https://earthquake.usgs.gov/fdsnws/event/1/query?format=geojson&starttime={start_date}&endtime={end_date}\""
   ]
  },
  {
   "cell_type": "code",
   "execution_count": 0,
   "metadata": {
    "application/vnd.databricks.v1+cell": {
     "cellMetadata": {
      "byteLimit": 2048000,
      "rowLimit": 10000
     },
     "inputWidgets": {},
     "nuid": "d2d641a6-375c-4760-9aca-68e1ae451406",
     "showTitle": false,
     "tableResultSettingsMap": {},
     "title": ""
    }
   },
   "outputs": [
    {
     "output_type": "stream",
     "name": "stdout",
     "output_type": "stream",
     "text": [
      "Wrote 297456 bytes.\nData successfully saved to abfss://bronze@prj1storage.dfs.core.windows.net//2025-03-11_earthquake_data.json\n"
     ]
    }
   ],
   "source": [
    "try:\n",
    "    # Make the GET request to fetch data\n",
    "    response = requests.get(url)\n",
    "\n",
    "    # Check if the request was successful\n",
    "    response.raise_for_status() # Raise HTTPerror for bad responses (4xx or 5xx)\n",
    "    \n",
    "    data = response.json().get(\"features\", [])\n",
    "    if not data:\n",
    "        print(\"No data found for the given date range.\")\n",
    "    else:\n",
    "        # Specify the path to save the data (Specify the ADLS path)\n",
    "        file_path = f\"{bronze_adls}/{start_date}_earthquake_data.json\"\n",
    "\n",
    "        # Save the data to the specified path (Save the JSON data)\n",
    "        json_data = json.dumps(data, indent=4)\n",
    "\n",
    "        dbutils.fs.put(file_path, json_data, overwrite=True)\n",
    "\n",
    "        print(f\"Data successfully saved to {file_path}\")\n",
    "except requests.exceptions.RequestException as e:\n",
    "    print(f\"Request fetching data from API: {e}\")\n"
   ]
  },
  {
   "cell_type": "code",
   "execution_count": 0,
   "metadata": {
    "application/vnd.databricks.v1+cell": {
     "cellMetadata": {
      "byteLimit": 2048000,
      "rowLimit": 10000
     },
     "inputWidgets": {},
     "nuid": "90ed02a5-da07-4806-8eb6-3b387fd0a98e",
     "showTitle": false,
     "tableResultSettingsMap": {},
     "title": ""
    }
   },
   "outputs": [
    {
     "output_type": "execute_result",
     "data": {
      "text/plain": [
       "{'type': 'Feature',\n",
       " 'properties': {'mag': 1.06,\n",
       "  'place': '21 km SW of La Quinta, CA',\n",
       "  'time': 1741733048890,\n",
       "  'updated': 1741733321083,\n",
       "  'tz': None,\n",
       "  'url': 'https://earthquake.usgs.gov/earthquakes/eventpage/ci41077696',\n",
       "  'detail': 'https://earthquake.usgs.gov/fdsnws/event/1/query?eventid=ci41077696&format=geojson',\n",
       "  'felt': None,\n",
       "  'cdi': None,\n",
       "  'mmi': None,\n",
       "  'alert': None,\n",
       "  'status': 'automatic',\n",
       "  'tsunami': 0,\n",
       "  'sig': 17,\n",
       "  'net': 'ci',\n",
       "  'code': '41077696',\n",
       "  'ids': ',ci41077696,',\n",
       "  'sources': ',ci,',\n",
       "  'types': ',nearby-cities,origin,phase-data,scitech-link,',\n",
       "  'nst': 24,\n",
       "  'dmin': 0.09143,\n",
       "  'rms': 0.24,\n",
       "  'gap': 48,\n",
       "  'magType': 'ml',\n",
       "  'type': 'earthquake',\n",
       "  'title': 'M 1.1 - 21 km SW of La Quinta, CA'},\n",
       " 'geometry': {'type': 'Point',\n",
       "  'coordinates': [-116.4505005, 33.5203323, 13.16]},\n",
       " 'id': 'ci41077696'}"
      ]
     },
     "execution_count": 14,
     "metadata": {},
     "output_type": "execute_result"
    }
   ],
   "source": [
    "data[10]"
   ]
  },
  {
   "cell_type": "code",
   "execution_count": 0,
   "metadata": {
    "application/vnd.databricks.v1+cell": {
     "cellMetadata": {},
     "inputWidgets": {},
     "nuid": "20ec0659-76e9-4228-a4f4-dfdea355b31e",
     "showTitle": false,
     "tableResultSettingsMap": {},
     "title": ""
    }
   },
   "outputs": [],
   "source": [
    "## FOR DYNAMIC PIPELINE\n",
    "\n",
    "# Define your variables\n",
    "output_data = {\n",
    "    \"start_date\": start_date,\n",
    "    \"end_date\": end_date,\n",
    "    \"bronze_adls\": bronze_adls,\n",
    "    \"silver_adls\": silver_adls,\n",
    "    \"gold_adls\": gold_adls\n",
    "}\n",
    "\n",
    "# Serialize the dictionary to a JSON string\n",
    "output_json = json.dumps(output_data)\n",
    "\n",
    "# Log the serialize JSON for debugging\n",
    "print(f\"Serialized JSON: {output_json}\")\n",
    "\n",
    "# Return the JSON string\n",
    "dbutils.notebook.exit(output_json)"
   ]
  }
 ],
 "metadata": {
  "application/vnd.databricks.v1+notebook": {
   "computePreferences": null,
   "dashboards": [],
   "environmentMetadata": {
    "base_environment": "",
    "environment_version": "2"
   },
   "language": "python",
   "notebookMetadata": {
    "pythonIndentUnit": 4
   },
   "notebookName": "Bronze Notebook",
   "widgets": {}
  },
  "language_info": {
   "name": "python"
  }
 },
 "nbformat": 4,
 "nbformat_minor": 0
}