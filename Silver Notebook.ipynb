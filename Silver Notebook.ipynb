{
 "cells": [
  {
   "cell_type": "code",
   "execution_count": 0,
   "metadata": {
    "application/vnd.databricks.v1+cell": {
     "cellMetadata": {
      "byteLimit": 2048000,
      "rowLimit": 10000
     },
     "inputWidgets": {},
     "nuid": "7095a2b8-11b0-4e4d-9d88-6a9c4e946b92",
     "showTitle": false,
     "tableResultSettingsMap": {},
     "title": ""
    }
   },
   "outputs": [],
   "source": [
    "# For Static Pipeline\n",
    "\n",
    "#from datetime import date, timedelta\n",
    "\n",
    "#Remove this before running Data Factory Pipeline\n",
    "#start_date = date.today() - timedelta(1)\n",
    "\n",
    "#bronze_adls = \"abfss://bronze@prj1storage.dfs.core.windows.net/\"\n",
    "#silver_adls = \"abfss://silver@prj1storage.dfs.core.windows.net/\"\n",
    "\n",
    "\n",
    "## FOR DYNAMIC PIPELINE\n",
    "\n",
    "import json\n",
    "\n",
    "# Retrieve the bronze_params directly as a widget\n",
    "bronze_params = dbutils.widgets.get(\"bronze_params\")\n",
    "print(f\"Raw bronze_params: {bronze_params}\")\n",
    "\n",
    "# Parse the JSON string\n",
    "output_data = json.loads(bronze_params)\n",
    "\n",
    "# Access individual variables\n",
    "start_date = output_data.get(\"start_date\", \"\")\n",
    "end_date = output_data.get(\"end_date\", \"\")\n",
    "bronze_adls = output_data.get(\"bronze_adls\", \"\")\n",
    "silver_adls = output_data.get(\"silver_adls\", \"\")\n",
    "gold_adls = output_data.get(\"gold_adls\", \"\")\n",
    "\n",
    "print(f\"Start Date: {start_date}, Bronze ADLS: {bronze_adls}\")"
   ]
  },
  {
   "cell_type": "code",
   "execution_count": 0,
   "metadata": {
    "application/vnd.databricks.v1+cell": {
     "cellMetadata": {
      "byteLimit": 2048000,
      "rowLimit": 10000
     },
     "inputWidgets": {},
     "nuid": "77ec81a5-803b-4be8-b691-f8dadaa6cb22",
     "showTitle": false,
     "tableResultSettingsMap": {},
     "title": ""
    }
   },
   "outputs": [
    {
     "output_type": "display_data",
     "data": {
      "text/plain": [
       "\u001B[0;31m---------------------------------------------------------------------------\u001B[0m\n",
       "\u001B[0;31mNameError\u001B[0m                                 Traceback (most recent call last)\n",
       "File \u001B[0;32m<command-2971894761681441>, line 17\u001B[0m\n",
       "\u001B[1;32m     14\u001B[0m \u001B[38;5;28;01mimport\u001B[39;00m \u001B[38;5;21;01mjson\u001B[39;00m\n",
       "\u001B[1;32m     16\u001B[0m \u001B[38;5;66;03m# Parse the JSON string\u001B[39;00m\n",
       "\u001B[0;32m---> 17\u001B[0m output_data \u001B[38;5;241m=\u001B[39m json\u001B[38;5;241m.\u001B[39mloads(bronze_params)\n",
       "\u001B[1;32m     19\u001B[0m \u001B[38;5;66;03m# Retrieve the bronze_params directly as a widget\u001B[39;00m\n",
       "\u001B[1;32m     20\u001B[0m bronze_params \u001B[38;5;241m=\u001B[39m dbutils\u001B[38;5;241m.\u001B[39mwidgets\u001B[38;5;241m.\u001B[39mget(\u001B[38;5;124m\"\u001B[39m\u001B[38;5;124mbronze_params\u001B[39m\u001B[38;5;124m\"\u001B[39m)\n",
       "\n",
       "\u001B[0;31mNameError\u001B[0m: name 'bronze_params' is not defined"
      ]
     },
     "metadata": {
      "application/vnd.databricks.v1+output": {
       "addedWidgets": {},
       "arguments": {},
       "datasetInfos": [],
       "jupyterProps": {
        "ename": "NameError",
        "evalue": "name 'bronze_params' is not defined"
       },
       "metadata": {
        "errorSummary": "Command skipped"
       },
       "removedWidgets": [],
       "sqlProps": null,
       "stackFrames": [
        "\u001B[0;31m---------------------------------------------------------------------------\u001B[0m",
        "\u001B[0;31mNameError\u001B[0m                                 Traceback (most recent call last)",
        "File \u001B[0;32m<command-2971894761681441>, line 17\u001B[0m\n\u001B[1;32m     14\u001B[0m \u001B[38;5;28;01mimport\u001B[39;00m \u001B[38;5;21;01mjson\u001B[39;00m\n\u001B[1;32m     16\u001B[0m \u001B[38;5;66;03m# Parse the JSON string\u001B[39;00m\n\u001B[0;32m---> 17\u001B[0m output_data \u001B[38;5;241m=\u001B[39m json\u001B[38;5;241m.\u001B[39mloads(bronze_params)\n\u001B[1;32m     19\u001B[0m \u001B[38;5;66;03m# Retrieve the bronze_params directly as a widget\u001B[39;00m\n\u001B[1;32m     20\u001B[0m bronze_params \u001B[38;5;241m=\u001B[39m dbutils\u001B[38;5;241m.\u001B[39mwidgets\u001B[38;5;241m.\u001B[39mget(\u001B[38;5;124m\"\u001B[39m\u001B[38;5;124mbronze_params\u001B[39m\u001B[38;5;124m\"\u001B[39m)\n",
        "\u001B[0;31mNameError\u001B[0m: name 'bronze_params' is not defined"
       ],
       "type": "baseError"
      }
     },
     "output_type": "display_data"
    }
   ],
   "source": [
    "from pyspark.sql import SparkSession\n",
    "from pyspark.sql.functions import *\n",
    "from pyspark.sql.types import *\n",
    "from datetime import date, timedelta\n"
   ]
  },
  {
   "cell_type": "code",
   "execution_count": 0,
   "metadata": {
    "application/vnd.databricks.v1+cell": {
     "cellMetadata": {
      "byteLimit": 2048000,
      "rowLimit": 10000
     },
     "inputWidgets": {},
     "nuid": "28aaebd6-e0bd-4351-9ae4-6332e12d1fa6",
     "showTitle": false,
     "tableResultSettingsMap": {},
     "title": ""
    }
   },
   "outputs": [
    {
     "output_type": "display_data",
     "data": {
      "text/plain": [
       "\u001B[0;31m---------------------------------------------------------------------------\u001B[0m\n",
       "\u001B[0;31mNameError\u001B[0m                                 Traceback (most recent call last)\n",
       "File \u001B[0;32m<command-2971894761681441>, line 17\u001B[0m\n",
       "\u001B[1;32m     14\u001B[0m \u001B[38;5;28;01mimport\u001B[39;00m \u001B[38;5;21;01mjson\u001B[39;00m\n",
       "\u001B[1;32m     16\u001B[0m \u001B[38;5;66;03m# Parse the JSON string\u001B[39;00m\n",
       "\u001B[0;32m---> 17\u001B[0m output_data \u001B[38;5;241m=\u001B[39m json\u001B[38;5;241m.\u001B[39mloads(bronze_params)\n",
       "\u001B[1;32m     19\u001B[0m \u001B[38;5;66;03m# Retrieve the bronze_params directly as a widget\u001B[39;00m\n",
       "\u001B[1;32m     20\u001B[0m bronze_params \u001B[38;5;241m=\u001B[39m dbutils\u001B[38;5;241m.\u001B[39mwidgets\u001B[38;5;241m.\u001B[39mget(\u001B[38;5;124m\"\u001B[39m\u001B[38;5;124mbronze_params\u001B[39m\u001B[38;5;124m\"\u001B[39m)\n",
       "\n",
       "\u001B[0;31mNameError\u001B[0m: name 'bronze_params' is not defined"
      ]
     },
     "metadata": {
      "application/vnd.databricks.v1+output": {
       "addedWidgets": {},
       "arguments": {},
       "datasetInfos": [],
       "jupyterProps": {
        "ename": "NameError",
        "evalue": "name 'bronze_params' is not defined"
       },
       "metadata": {
        "errorSummary": "Command skipped"
       },
       "removedWidgets": [],
       "sqlProps": null,
       "stackFrames": [
        "\u001B[0;31m---------------------------------------------------------------------------\u001B[0m",
        "\u001B[0;31mNameError\u001B[0m                                 Traceback (most recent call last)",
        "File \u001B[0;32m<command-2971894761681441>, line 17\u001B[0m\n\u001B[1;32m     14\u001B[0m \u001B[38;5;28;01mimport\u001B[39;00m \u001B[38;5;21;01mjson\u001B[39;00m\n\u001B[1;32m     16\u001B[0m \u001B[38;5;66;03m# Parse the JSON string\u001B[39;00m\n\u001B[0;32m---> 17\u001B[0m output_data \u001B[38;5;241m=\u001B[39m json\u001B[38;5;241m.\u001B[39mloads(bronze_params)\n\u001B[1;32m     19\u001B[0m \u001B[38;5;66;03m# Retrieve the bronze_params directly as a widget\u001B[39;00m\n\u001B[1;32m     20\u001B[0m bronze_params \u001B[38;5;241m=\u001B[39m dbutils\u001B[38;5;241m.\u001B[39mwidgets\u001B[38;5;241m.\u001B[39mget(\u001B[38;5;124m\"\u001B[39m\u001B[38;5;124mbronze_params\u001B[39m\u001B[38;5;124m\"\u001B[39m)\n",
        "\u001B[0;31mNameError\u001B[0m: name 'bronze_params' is not defined"
       ],
       "type": "baseError"
      }
     },
     "output_type": "display_data"
    }
   ],
   "source": [
    "# Load the JSON data into a spark DataFrame\n",
    "df = spark.read.option(\"multiline\", \"true\").json(f\"{bronze_adls}{start_date}_earthquake_data.json\")"
   ]
  },
  {
   "cell_type": "code",
   "execution_count": 0,
   "metadata": {
    "application/vnd.databricks.v1+cell": {
     "cellMetadata": {
      "byteLimit": 2048000,
      "rowLimit": 10000
     },
     "inputWidgets": {},
     "nuid": "9cb7bde0-ccab-437c-8fe2-04336d6eee2e",
     "showTitle": false,
     "tableResultSettingsMap": {},
     "title": ""
    }
   },
   "outputs": [
    {
     "output_type": "display_data",
     "data": {
      "text/plain": [
       "\u001B[0;31m---------------------------------------------------------------------------\u001B[0m\n",
       "\u001B[0;31mNameError\u001B[0m                                 Traceback (most recent call last)\n",
       "File \u001B[0;32m<command-2971894761681441>, line 17\u001B[0m\n",
       "\u001B[1;32m     14\u001B[0m \u001B[38;5;28;01mimport\u001B[39;00m \u001B[38;5;21;01mjson\u001B[39;00m\n",
       "\u001B[1;32m     16\u001B[0m \u001B[38;5;66;03m# Parse the JSON string\u001B[39;00m\n",
       "\u001B[0;32m---> 17\u001B[0m output_data \u001B[38;5;241m=\u001B[39m json\u001B[38;5;241m.\u001B[39mloads(bronze_params)\n",
       "\u001B[1;32m     19\u001B[0m \u001B[38;5;66;03m# Retrieve the bronze_params directly as a widget\u001B[39;00m\n",
       "\u001B[1;32m     20\u001B[0m bronze_params \u001B[38;5;241m=\u001B[39m dbutils\u001B[38;5;241m.\u001B[39mwidgets\u001B[38;5;241m.\u001B[39mget(\u001B[38;5;124m\"\u001B[39m\u001B[38;5;124mbronze_params\u001B[39m\u001B[38;5;124m\"\u001B[39m)\n",
       "\n",
       "\u001B[0;31mNameError\u001B[0m: name 'bronze_params' is not defined"
      ]
     },
     "metadata": {
      "application/vnd.databricks.v1+output": {
       "addedWidgets": {},
       "arguments": {},
       "datasetInfos": [],
       "jupyterProps": {
        "ename": "NameError",
        "evalue": "name 'bronze_params' is not defined"
       },
       "metadata": {
        "errorSummary": "Command skipped"
       },
       "removedWidgets": [],
       "sqlProps": null,
       "stackFrames": [
        "\u001B[0;31m---------------------------------------------------------------------------\u001B[0m",
        "\u001B[0;31mNameError\u001B[0m                                 Traceback (most recent call last)",
        "File \u001B[0;32m<command-2971894761681441>, line 17\u001B[0m\n\u001B[1;32m     14\u001B[0m \u001B[38;5;28;01mimport\u001B[39;00m \u001B[38;5;21;01mjson\u001B[39;00m\n\u001B[1;32m     16\u001B[0m \u001B[38;5;66;03m# Parse the JSON string\u001B[39;00m\n\u001B[0;32m---> 17\u001B[0m output_data \u001B[38;5;241m=\u001B[39m json\u001B[38;5;241m.\u001B[39mloads(bronze_params)\n\u001B[1;32m     19\u001B[0m \u001B[38;5;66;03m# Retrieve the bronze_params directly as a widget\u001B[39;00m\n\u001B[1;32m     20\u001B[0m bronze_params \u001B[38;5;241m=\u001B[39m dbutils\u001B[38;5;241m.\u001B[39mwidgets\u001B[38;5;241m.\u001B[39mget(\u001B[38;5;124m\"\u001B[39m\u001B[38;5;124mbronze_params\u001B[39m\u001B[38;5;124m\"\u001B[39m)\n",
        "\u001B[0;31mNameError\u001B[0m: name 'bronze_params' is not defined"
       ],
       "type": "baseError"
      }
     },
     "output_type": "display_data"
    }
   ],
   "source": [
    "# Reshape earthquake data\n",
    "df = (\n",
    "    df\n",
    "    .select(\n",
    "        'id',\n",
    "        col('geometry.coordinates').getItem(0).alias('longitude'),\n",
    "        col('geometry.coordinates').getItem(1).alias('latitude'),\n",
    "        col('geometry.coordinates').getItem(2).alias('elevation'),\n",
    "        col('properties.title').alias('title'),\n",
    "        col('properties.place').alias('place_description'),\n",
    "        col('properties.sig').alias('sig'),\n",
    "        col('properties.mag').alias('mag'),\n",
    "        col('properties.magType').alias('magType'),\n",
    "        col('properties.time').alias('time'),\n",
    "        col('properties.updated').alias('updated')\n",
    "    )\n",
    ")"
   ]
  },
  {
   "cell_type": "code",
   "execution_count": 0,
   "metadata": {
    "application/vnd.databricks.v1+cell": {
     "cellMetadata": {
      "byteLimit": 2048000,
      "rowLimit": 10000
     },
     "inputWidgets": {},
     "nuid": "274e4eb7-dd92-4949-bcb3-44626d5437d0",
     "showTitle": false,
     "tableResultSettingsMap": {},
     "title": ""
    }
   },
   "outputs": [
    {
     "output_type": "display_data",
     "data": {
      "text/plain": [
       "\u001B[0;31m---------------------------------------------------------------------------\u001B[0m\n",
       "\u001B[0;31mNameError\u001B[0m                                 Traceback (most recent call last)\n",
       "File \u001B[0;32m<command-2971894761681441>, line 17\u001B[0m\n",
       "\u001B[1;32m     14\u001B[0m \u001B[38;5;28;01mimport\u001B[39;00m \u001B[38;5;21;01mjson\u001B[39;00m\n",
       "\u001B[1;32m     16\u001B[0m \u001B[38;5;66;03m# Parse the JSON string\u001B[39;00m\n",
       "\u001B[0;32m---> 17\u001B[0m output_data \u001B[38;5;241m=\u001B[39m json\u001B[38;5;241m.\u001B[39mloads(bronze_params)\n",
       "\u001B[1;32m     19\u001B[0m \u001B[38;5;66;03m# Retrieve the bronze_params directly as a widget\u001B[39;00m\n",
       "\u001B[1;32m     20\u001B[0m bronze_params \u001B[38;5;241m=\u001B[39m dbutils\u001B[38;5;241m.\u001B[39mwidgets\u001B[38;5;241m.\u001B[39mget(\u001B[38;5;124m\"\u001B[39m\u001B[38;5;124mbronze_params\u001B[39m\u001B[38;5;124m\"\u001B[39m)\n",
       "\n",
       "\u001B[0;31mNameError\u001B[0m: name 'bronze_params' is not defined"
      ]
     },
     "metadata": {
      "application/vnd.databricks.v1+output": {
       "addedWidgets": {},
       "arguments": {},
       "datasetInfos": [],
       "jupyterProps": {
        "ename": "NameError",
        "evalue": "name 'bronze_params' is not defined"
       },
       "metadata": {
        "errorSummary": "Command skipped"
       },
       "removedWidgets": [],
       "sqlProps": null,
       "stackFrames": [
        "\u001B[0;31m---------------------------------------------------------------------------\u001B[0m",
        "\u001B[0;31mNameError\u001B[0m                                 Traceback (most recent call last)",
        "File \u001B[0;32m<command-2971894761681441>, line 17\u001B[0m\n\u001B[1;32m     14\u001B[0m \u001B[38;5;28;01mimport\u001B[39;00m \u001B[38;5;21;01mjson\u001B[39;00m\n\u001B[1;32m     16\u001B[0m \u001B[38;5;66;03m# Parse the JSON string\u001B[39;00m\n\u001B[0;32m---> 17\u001B[0m output_data \u001B[38;5;241m=\u001B[39m json\u001B[38;5;241m.\u001B[39mloads(bronze_params)\n\u001B[1;32m     19\u001B[0m \u001B[38;5;66;03m# Retrieve the bronze_params directly as a widget\u001B[39;00m\n\u001B[1;32m     20\u001B[0m bronze_params \u001B[38;5;241m=\u001B[39m dbutils\u001B[38;5;241m.\u001B[39mwidgets\u001B[38;5;241m.\u001B[39mget(\u001B[38;5;124m\"\u001B[39m\u001B[38;5;124mbronze_params\u001B[39m\u001B[38;5;124m\"\u001B[39m)\n",
        "\u001B[0;31mNameError\u001B[0m: name 'bronze_params' is not defined"
       ],
       "type": "baseError"
      }
     },
     "output_type": "display_data"
    }
   ],
   "source": [
    "# Validate data: check for missing or null values\n",
    "df = (\n",
    "    df\n",
    "    .withColumn('longitude', when(isnull(col('longitude')), '0').otherwise(col('longitude')))\n",
    "    .withColumn('latitude', when(isnull(col('latitude')), '0').otherwise(col('latitude')))\n",
    "    .withColumn('time', when(isnull(col('time')), '0').otherwise(col('time')))\n",
    ")"
   ]
  },
  {
   "cell_type": "code",
   "execution_count": 0,
   "metadata": {
    "application/vnd.databricks.v1+cell": {
     "cellMetadata": {
      "byteLimit": 2048000,
      "rowLimit": 10000
     },
     "inputWidgets": {},
     "nuid": "091ab522-4295-4376-8c71-3b9d25c81324",
     "showTitle": false,
     "tableResultSettingsMap": {},
     "title": ""
    }
   },
   "outputs": [
    {
     "output_type": "display_data",
     "data": {
      "text/plain": [
       "\u001B[0;31m---------------------------------------------------------------------------\u001B[0m\n",
       "\u001B[0;31mNameError\u001B[0m                                 Traceback (most recent call last)\n",
       "File \u001B[0;32m<command-2971894761681441>, line 17\u001B[0m\n",
       "\u001B[1;32m     14\u001B[0m \u001B[38;5;28;01mimport\u001B[39;00m \u001B[38;5;21;01mjson\u001B[39;00m\n",
       "\u001B[1;32m     16\u001B[0m \u001B[38;5;66;03m# Parse the JSON string\u001B[39;00m\n",
       "\u001B[0;32m---> 17\u001B[0m output_data \u001B[38;5;241m=\u001B[39m json\u001B[38;5;241m.\u001B[39mloads(bronze_params)\n",
       "\u001B[1;32m     19\u001B[0m \u001B[38;5;66;03m# Retrieve the bronze_params directly as a widget\u001B[39;00m\n",
       "\u001B[1;32m     20\u001B[0m bronze_params \u001B[38;5;241m=\u001B[39m dbutils\u001B[38;5;241m.\u001B[39mwidgets\u001B[38;5;241m.\u001B[39mget(\u001B[38;5;124m\"\u001B[39m\u001B[38;5;124mbronze_params\u001B[39m\u001B[38;5;124m\"\u001B[39m)\n",
       "\n",
       "\u001B[0;31mNameError\u001B[0m: name 'bronze_params' is not defined"
      ]
     },
     "metadata": {
      "application/vnd.databricks.v1+output": {
       "addedWidgets": {},
       "arguments": {},
       "datasetInfos": [],
       "jupyterProps": {
        "ename": "NameError",
        "evalue": "name 'bronze_params' is not defined"
       },
       "metadata": {
        "errorSummary": "Command skipped"
       },
       "removedWidgets": [],
       "sqlProps": null,
       "stackFrames": [
        "\u001B[0;31m---------------------------------------------------------------------------\u001B[0m",
        "\u001B[0;31mNameError\u001B[0m                                 Traceback (most recent call last)",
        "File \u001B[0;32m<command-2971894761681441>, line 17\u001B[0m\n\u001B[1;32m     14\u001B[0m \u001B[38;5;28;01mimport\u001B[39;00m \u001B[38;5;21;01mjson\u001B[39;00m\n\u001B[1;32m     16\u001B[0m \u001B[38;5;66;03m# Parse the JSON string\u001B[39;00m\n\u001B[0;32m---> 17\u001B[0m output_data \u001B[38;5;241m=\u001B[39m json\u001B[38;5;241m.\u001B[39mloads(bronze_params)\n\u001B[1;32m     19\u001B[0m \u001B[38;5;66;03m# Retrieve the bronze_params directly as a widget\u001B[39;00m\n\u001B[1;32m     20\u001B[0m bronze_params \u001B[38;5;241m=\u001B[39m dbutils\u001B[38;5;241m.\u001B[39mwidgets\u001B[38;5;241m.\u001B[39mget(\u001B[38;5;124m\"\u001B[39m\u001B[38;5;124mbronze_params\u001B[39m\u001B[38;5;124m\"\u001B[39m)\n",
        "\u001B[0;31mNameError\u001B[0m: name 'bronze_params' is not defined"
       ],
       "type": "baseError"
      }
     },
     "output_type": "display_data"
    }
   ],
   "source": [
    "# Convert 'time' and 'update' to timestamp from Unix-time\n",
    "\n",
    "df = (\n",
    "    df\n",
    "    .withColumn('time', (col('time') / 1000).cast(TimestampType()))\n",
    "    .withColumn('updated', (col('updated') / 1000).cast(TimestampType()))\n",
    ")"
   ]
  },
  {
   "cell_type": "code",
   "execution_count": 0,
   "metadata": {
    "application/vnd.databricks.v1+cell": {
     "cellMetadata": {
      "byteLimit": 2048000,
      "rowLimit": 10000
     },
     "inputWidgets": {},
     "nuid": "fd84add0-1a44-4bdb-99db-220f48c96cac",
     "showTitle": false,
     "tableResultSettingsMap": {},
     "title": ""
    }
   },
   "outputs": [
    {
     "output_type": "display_data",
     "data": {
      "text/plain": [
       "\u001B[0;31m---------------------------------------------------------------------------\u001B[0m\n",
       "\u001B[0;31mNameError\u001B[0m                                 Traceback (most recent call last)\n",
       "File \u001B[0;32m<command-2971894761681441>, line 17\u001B[0m\n",
       "\u001B[1;32m     14\u001B[0m \u001B[38;5;28;01mimport\u001B[39;00m \u001B[38;5;21;01mjson\u001B[39;00m\n",
       "\u001B[1;32m     16\u001B[0m \u001B[38;5;66;03m# Parse the JSON string\u001B[39;00m\n",
       "\u001B[0;32m---> 17\u001B[0m output_data \u001B[38;5;241m=\u001B[39m json\u001B[38;5;241m.\u001B[39mloads(bronze_params)\n",
       "\u001B[1;32m     19\u001B[0m \u001B[38;5;66;03m# Retrieve the bronze_params directly as a widget\u001B[39;00m\n",
       "\u001B[1;32m     20\u001B[0m bronze_params \u001B[38;5;241m=\u001B[39m dbutils\u001B[38;5;241m.\u001B[39mwidgets\u001B[38;5;241m.\u001B[39mget(\u001B[38;5;124m\"\u001B[39m\u001B[38;5;124mbronze_params\u001B[39m\u001B[38;5;124m\"\u001B[39m)\n",
       "\n",
       "\u001B[0;31mNameError\u001B[0m: name 'bronze_params' is not defined"
      ]
     },
     "metadata": {
      "application/vnd.databricks.v1+output": {
       "addedWidgets": {},
       "arguments": {},
       "datasetInfos": [],
       "jupyterProps": {
        "ename": "NameError",
        "evalue": "name 'bronze_params' is not defined"
       },
       "metadata": {
        "errorSummary": "Command skipped"
       },
       "removedWidgets": [],
       "sqlProps": null,
       "stackFrames": [
        "\u001B[0;31m---------------------------------------------------------------------------\u001B[0m",
        "\u001B[0;31mNameError\u001B[0m                                 Traceback (most recent call last)",
        "File \u001B[0;32m<command-2971894761681441>, line 17\u001B[0m\n\u001B[1;32m     14\u001B[0m \u001B[38;5;28;01mimport\u001B[39;00m \u001B[38;5;21;01mjson\u001B[39;00m\n\u001B[1;32m     16\u001B[0m \u001B[38;5;66;03m# Parse the JSON string\u001B[39;00m\n\u001B[0;32m---> 17\u001B[0m output_data \u001B[38;5;241m=\u001B[39m json\u001B[38;5;241m.\u001B[39mloads(bronze_params)\n\u001B[1;32m     19\u001B[0m \u001B[38;5;66;03m# Retrieve the bronze_params directly as a widget\u001B[39;00m\n\u001B[1;32m     20\u001B[0m bronze_params \u001B[38;5;241m=\u001B[39m dbutils\u001B[38;5;241m.\u001B[39mwidgets\u001B[38;5;241m.\u001B[39mget(\u001B[38;5;124m\"\u001B[39m\u001B[38;5;124mbronze_params\u001B[39m\u001B[38;5;124m\"\u001B[39m)\n",
        "\u001B[0;31mNameError\u001B[0m: name 'bronze_params' is not defined"
       ],
       "type": "baseError"
      }
     },
     "output_type": "display_data"
    }
   ],
   "source": [
    "# Save the transformed DataFrame to the Silver Container\n",
    "silver_output_path = f\"{silver_adls}earthquake_events_silver/\""
   ]
  },
  {
   "cell_type": "code",
   "execution_count": 0,
   "metadata": {
    "application/vnd.databricks.v1+cell": {
     "cellMetadata": {
      "byteLimit": 2048000,
      "rowLimit": 10000
     },
     "inputWidgets": {},
     "nuid": "87c8e3b0-21da-40fd-bc85-a18cdd9769ea",
     "showTitle": false,
     "tableResultSettingsMap": {},
     "title": ""
    }
   },
   "outputs": [
    {
     "output_type": "display_data",
     "data": {
      "text/plain": [
       "\u001B[0;31m---------------------------------------------------------------------------\u001B[0m\n",
       "\u001B[0;31mNameError\u001B[0m                                 Traceback (most recent call last)\n",
       "File \u001B[0;32m<command-2971894761681441>, line 17\u001B[0m\n",
       "\u001B[1;32m     14\u001B[0m \u001B[38;5;28;01mimport\u001B[39;00m \u001B[38;5;21;01mjson\u001B[39;00m\n",
       "\u001B[1;32m     16\u001B[0m \u001B[38;5;66;03m# Parse the JSON string\u001B[39;00m\n",
       "\u001B[0;32m---> 17\u001B[0m output_data \u001B[38;5;241m=\u001B[39m json\u001B[38;5;241m.\u001B[39mloads(bronze_params)\n",
       "\u001B[1;32m     19\u001B[0m \u001B[38;5;66;03m# Retrieve the bronze_params directly as a widget\u001B[39;00m\n",
       "\u001B[1;32m     20\u001B[0m bronze_params \u001B[38;5;241m=\u001B[39m dbutils\u001B[38;5;241m.\u001B[39mwidgets\u001B[38;5;241m.\u001B[39mget(\u001B[38;5;124m\"\u001B[39m\u001B[38;5;124mbronze_params\u001B[39m\u001B[38;5;124m\"\u001B[39m)\n",
       "\n",
       "\u001B[0;31mNameError\u001B[0m: name 'bronze_params' is not defined"
      ]
     },
     "metadata": {
      "application/vnd.databricks.v1+output": {
       "addedWidgets": {},
       "arguments": {},
       "datasetInfos": [],
       "jupyterProps": {
        "ename": "NameError",
        "evalue": "name 'bronze_params' is not defined"
       },
       "metadata": {
        "errorSummary": "Command skipped"
       },
       "removedWidgets": [],
       "sqlProps": null,
       "stackFrames": [
        "\u001B[0;31m---------------------------------------------------------------------------\u001B[0m",
        "\u001B[0;31mNameError\u001B[0m                                 Traceback (most recent call last)",
        "File \u001B[0;32m<command-2971894761681441>, line 17\u001B[0m\n\u001B[1;32m     14\u001B[0m \u001B[38;5;28;01mimport\u001B[39;00m \u001B[38;5;21;01mjson\u001B[39;00m\n\u001B[1;32m     16\u001B[0m \u001B[38;5;66;03m# Parse the JSON string\u001B[39;00m\n\u001B[0;32m---> 17\u001B[0m output_data \u001B[38;5;241m=\u001B[39m json\u001B[38;5;241m.\u001B[39mloads(bronze_params)\n\u001B[1;32m     19\u001B[0m \u001B[38;5;66;03m# Retrieve the bronze_params directly as a widget\u001B[39;00m\n\u001B[1;32m     20\u001B[0m bronze_params \u001B[38;5;241m=\u001B[39m dbutils\u001B[38;5;241m.\u001B[39mwidgets\u001B[38;5;241m.\u001B[39mget(\u001B[38;5;124m\"\u001B[39m\u001B[38;5;124mbronze_params\u001B[39m\u001B[38;5;124m\"\u001B[39m)\n",
        "\u001B[0;31mNameError\u001B[0m: name 'bronze_params' is not defined"
       ],
       "type": "baseError"
      }
     },
     "output_type": "display_data"
    }
   ],
   "source": [
    "# Append DataFrame to Silver Container in Parquet format\n",
    "df.write.mode('append').parquet(silver_output_path)"
   ]
  },
  {
   "cell_type": "code",
   "execution_count": 0,
   "metadata": {
    "application/vnd.databricks.v1+cell": {
     "cellMetadata": {
      "byteLimit": 2048000,
      "rowLimit": 10000
     },
     "inputWidgets": {},
     "nuid": "4f3d6da7-21e4-4fb5-a7cb-535812683ca5",
     "showTitle": false,
     "tableResultSettingsMap": {},
     "title": ""
    }
   },
   "outputs": [
    {
     "output_type": "display_data",
     "data": {
      "text/plain": [
       "\u001B[0;31m---------------------------------------------------------------------------\u001B[0m\n",
       "\u001B[0;31mNameError\u001B[0m                                 Traceback (most recent call last)\n",
       "File \u001B[0;32m<command-2971894761681441>, line 17\u001B[0m\n",
       "\u001B[1;32m     14\u001B[0m \u001B[38;5;28;01mimport\u001B[39;00m \u001B[38;5;21;01mjson\u001B[39;00m\n",
       "\u001B[1;32m     16\u001B[0m \u001B[38;5;66;03m# Parse the JSON string\u001B[39;00m\n",
       "\u001B[0;32m---> 17\u001B[0m output_data \u001B[38;5;241m=\u001B[39m json\u001B[38;5;241m.\u001B[39mloads(bronze_params)\n",
       "\u001B[1;32m     19\u001B[0m \u001B[38;5;66;03m# Retrieve the bronze_params directly as a widget\u001B[39;00m\n",
       "\u001B[1;32m     20\u001B[0m bronze_params \u001B[38;5;241m=\u001B[39m dbutils\u001B[38;5;241m.\u001B[39mwidgets\u001B[38;5;241m.\u001B[39mget(\u001B[38;5;124m\"\u001B[39m\u001B[38;5;124mbronze_params\u001B[39m\u001B[38;5;124m\"\u001B[39m)\n",
       "\n",
       "\u001B[0;31mNameError\u001B[0m: name 'bronze_params' is not defined"
      ]
     },
     "metadata": {
      "application/vnd.databricks.v1+output": {
       "addedWidgets": {},
       "arguments": {},
       "datasetInfos": [],
       "jupyterProps": {
        "ename": "NameError",
        "evalue": "name 'bronze_params' is not defined"
       },
       "metadata": {
        "errorSummary": "Command skipped"
       },
       "removedWidgets": [],
       "sqlProps": null,
       "stackFrames": [
        "\u001B[0;31m---------------------------------------------------------------------------\u001B[0m",
        "\u001B[0;31mNameError\u001B[0m                                 Traceback (most recent call last)",
        "File \u001B[0;32m<command-2971894761681441>, line 17\u001B[0m\n\u001B[1;32m     14\u001B[0m \u001B[38;5;28;01mimport\u001B[39;00m \u001B[38;5;21;01mjson\u001B[39;00m\n\u001B[1;32m     16\u001B[0m \u001B[38;5;66;03m# Parse the JSON string\u001B[39;00m\n\u001B[0;32m---> 17\u001B[0m output_data \u001B[38;5;241m=\u001B[39m json\u001B[38;5;241m.\u001B[39mloads(bronze_params)\n\u001B[1;32m     19\u001B[0m \u001B[38;5;66;03m# Retrieve the bronze_params directly as a widget\u001B[39;00m\n\u001B[1;32m     20\u001B[0m bronze_params \u001B[38;5;241m=\u001B[39m dbutils\u001B[38;5;241m.\u001B[39mwidgets\u001B[38;5;241m.\u001B[39mget(\u001B[38;5;124m\"\u001B[39m\u001B[38;5;124mbronze_params\u001B[39m\u001B[38;5;124m\"\u001B[39m)\n",
        "\u001B[0;31mNameError\u001B[0m: name 'bronze_params' is not defined"
       ],
       "type": "baseError"
      }
     },
     "output_type": "display_data"
    }
   ],
   "source": [
    "dbutils.notebook.exit(silver_output_path)"
   ]
  }
 ],
 "metadata": {
  "application/vnd.databricks.v1+notebook": {
   "computePreferences": null,
   "dashboards": [],
   "environmentMetadata": {
    "base_environment": "",
    "environment_version": "2"
   },
   "language": "python",
   "notebookMetadata": {
    "pythonIndentUnit": 4
   },
   "notebookName": "Silver Notebook",
   "widgets": {}
  },
  "language_info": {
   "name": "python"
  }
 },
 "nbformat": 4,
 "nbformat_minor": 0
}